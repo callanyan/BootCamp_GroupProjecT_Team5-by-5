{
 "cells": [
  {
   "cell_type": "code",
   "execution_count": 14,
   "metadata": {},
   "outputs": [],
   "source": [
    "import requests\n",
    "import json\n",
    "from pprint import pprint\n",
    "import pandas as pd\n",
    "import numpy as np\n",
    "import os\n",
    "import csv\n",
    "import matplotlib.pyplot as plt\n",
    "\n",
    "\n",
    "#create imporsonment data url\n",
    "Imprisonment_baseUrl = \"https://api.ed.gov/data/mbk-imprisonment?\"\n",
    "Imprisonment_apiKey = \"api_key=DTeVODnGRjLME8jd6PQCOy1DpgLqXPdHWtGO4EqA\"\n",
    "Imprisonment_perPage = \"per_page=\" + \"195\"\n",
    "Imprisonment_url = Imprisonment_baseUrl + Imprisonment_apiKey + \"&\" + Imprisonment_perPage\n",
    "\n",
    "#request and get data as \"ImprisonmentData\" through url\n",
    "ImprisonmentData = requests.get(Imprisonment_url).json()\n",
    "\n"
   ]
  },
  {
   "cell_type": "code",
   "execution_count": 152,
   "metadata": {},
   "outputs": [
    {
     "data": {
      "text/html": [
       "<div>\n",
       "<style scoped>\n",
       "    .dataframe tbody tr th:only-of-type {\n",
       "        vertical-align: middle;\n",
       "    }\n",
       "\n",
       "    .dataframe tbody tr th {\n",
       "        vertical-align: top;\n",
       "    }\n",
       "\n",
       "    .dataframe thead th {\n",
       "        text-align: right;\n",
       "    }\n",
       "</style>\n",
       "<table border=\"1\" class=\"dataframe\">\n",
       "  <thead>\n",
       "    <tr style=\"text-align: right;\">\n",
       "      <th></th>\n",
       "      <th>Year</th>\n",
       "      <th>Race/Ethnicity</th>\n",
       "      <th>Sex</th>\n",
       "      <th>Count</th>\n",
       "      <th>Per Capita Rate per 100,000</th>\n",
       "    </tr>\n",
       "  </thead>\n",
       "  <tbody>\n",
       "    <tr>\n",
       "      <th>0</th>\n",
       "      <td>2000</td>\n",
       "      <td>None</td>\n",
       "      <td>None</td>\n",
       "      <td>218896</td>\n",
       "      <td>791</td>\n",
       "    </tr>\n",
       "    <tr>\n",
       "      <th>1</th>\n",
       "      <td>2001</td>\n",
       "      <td>None</td>\n",
       "      <td>None</td>\n",
       "      <td>219439</td>\n",
       "      <td>777</td>\n",
       "    </tr>\n",
       "    <tr>\n",
       "      <th>2</th>\n",
       "      <td>2002</td>\n",
       "      <td>None</td>\n",
       "      <td>None</td>\n",
       "      <td>220072</td>\n",
       "      <td>766</td>\n",
       "    </tr>\n",
       "    <tr>\n",
       "      <th>3</th>\n",
       "      <td>2003</td>\n",
       "      <td>None</td>\n",
       "      <td>None</td>\n",
       "      <td>218436</td>\n",
       "      <td>750</td>\n",
       "    </tr>\n",
       "    <tr>\n",
       "      <th>4</th>\n",
       "      <td>2004</td>\n",
       "      <td>None</td>\n",
       "      <td>None</td>\n",
       "      <td>207416</td>\n",
       "      <td>707</td>\n",
       "    </tr>\n",
       "  </tbody>\n",
       "</table>\n",
       "</div>"
      ],
      "text/plain": [
       "   Year Race/Ethnicity   Sex   Count  Per Capita Rate per 100,000\n",
       "0  2000           None  None  218896                          791\n",
       "1  2001           None  None  219439                          777\n",
       "2  2002           None  None  220072                          766\n",
       "3  2003           None  None  218436                          750\n",
       "4  2004           None  None  207416                          707"
      ]
     },
     "execution_count": 152,
     "metadata": {},
     "output_type": "execute_result"
    }
   ],
   "source": [
    "Imprisonment_length = len(ImprisonmentData[\"resources\"])\n",
    "\n",
    "YearList = [] \n",
    "RaceEthnicityList = []\n",
    "SexLists = []\n",
    "CountList = []\n",
    "CountPerCapitaList = []\n",
    "\n",
    "#pull all data from requested data and put into lists for each column\n",
    "for i in range (Imprisonment_length):\n",
    "    YearList.append(int(ImprisonmentData[\"resources\"][i][\"Year\"]))\n",
    "    RaceEthnicityList.append(ImprisonmentData[\"resources\"][i][\"Race/ethnicity\"])\n",
    "    SexLists.append(ImprisonmentData[\"resources\"][i][\"Sex\"])\n",
    "    CountList.append(int(ImprisonmentData[\"resources\"][i][\"Count\"]))\n",
    "    CountPerCapitaList.append(int(ImprisonmentData[\"resources\"][i][\"Rate per 100,000\"]))\n",
    "        #YearList\n",
    "\n",
    "#create dataframe and input all lists\n",
    "imprisonmentDf = pd.DataFrame({\n",
    "    \"Year\" : YearList,\n",
    "    \"Race/Ethnicity\" : RaceEthnicityList,\n",
    "    \"Sex\" : SexLists,\n",
    "    \"Count\" : CountList,\n",
    "    \"Per Capita Rate per 100,000\" : CountPerCapitaList\n",
    "})\n",
    "\n",
    "#show imporinment dataframe\n",
    "imprisonmentDf.sort_values(by=[\"Year\", \"Race/Ethnicity\"], ascending=True)\n",
    "imprisonmentDf.head()\n",
    "        \n"
   ]
  },
  {
   "cell_type": "code",
   "execution_count": 147,
   "metadata": {},
   "outputs": [
    {
     "data": {
      "text/plain": [
       "array([None, 'White, non-Hispanic', 'Black, non-Hispanic', 'Hispanic',\n",
       "       'Other race, non-Hispanic'], dtype=object)"
      ]
     },
     "execution_count": 147,
     "metadata": {},
     "output_type": "execute_result"
    }
   ],
   "source": [
    "#initilize race list\n",
    "raceList = []\n",
    "#populate race list with unique races\n",
    "raceList = imprisonmentDf[\"Race/Ethnicity\"].unique()\n",
    "#show unique races\n",
    "raceList"
   ]
  },
  {
   "cell_type": "code",
   "execution_count": 154,
   "metadata": {},
   "outputs": [
    {
     "data": {
      "text/plain": [
       "<matplotlib.axes._subplots.AxesSubplot at 0x11c0fdef0>"
      ]
     },
     "execution_count": 154,
     "metadata": {},
     "output_type": "execute_result"
    },
    {
     "data": {
      "image/png": "[encoded data removed]",
      "text/plain": [
       "<Figure size 432x288 with 1 Axes>"
      ]
     },
     "metadata": {
      "needs_background": "light"
     },
     "output_type": "display_data"
    }
   ],
   "source": [
    "imprisonmentDf_yearSum = pd.DataFrame(imprisonmentDf.groupby([\"Year\", \"Race/Ethnicity\"])[\"Count\"].sum())\n",
    "imprisonmentDf_yearSum.unstack(level=-1).plot(kind=\"line\", legend=True)#, xticks=imprisonmentDf_yearSum.index)\n",
    "\n"
   ]
  },
  {
   "cell_type": "code",
   "execution_count": 159,
   "metadata": {},
   "outputs": [
    {
     "data": {
      "text/plain": [
       "<matplotlib.axes._subplots.AxesSubplot at 0x11cff3438>"
      ]
     },
     "execution_count": 159,
     "metadata": {},
     "output_type": "execute_result"
    },
    {
     "data": {
      "image/png": "[encoded data removed]",
      "text/plain": [
       "<Figure size 432x288 with 1 Axes>"
      ]
     },
     "metadata": {
      "needs_background": "light"
     },
     "output_type": "display_data"
    }
   ],
   "source": [
    "#imprisonmentDf_yearSum.plot(kind='bar')\n",
    "imprisonmentDf_yearSum = pd.DataFrame(imprisonmentDf.groupby([\"Year\", \"Race/Ethnicity\"])[\"Per Capita Rate per 100,000\"].sum()/100000)\n",
    "imprisonmentDf_yearSum.unstack(level=-1).plot(kind=\"line\", legend=False)#, xticks=imprisonmentDf_yearSum.index)\n",
    "\n"
   ]
  },
  {
   "cell_type": "code",
   "execution_count": null,
   "metadata": {},
   "outputs": [],
   "source": [
    "plt.plot(x_axis, sin_X)\n"
   ]
  },
  {
   "cell_type": "code",
   "execution_count": null,
   "metadata": {},
   "outputs": [],
   "source": []
  },
  {
   "cell_type": "code",
   "execution_count": null,
   "metadata": {},
   "outputs": [],
   "source": []
  }
 ],
 "metadata": {
  "kernelspec": {
   "display_name": "Python 3",
   "language": "python",
   "name": "python3"
  },
  "language_info": {
   "codemirror_mode": {
    "name": "ipython",
    "version": 3
   },
   "file_extension": ".py",
   "mimetype": "text/x-python",
   "name": "python",
   "nbconvert_exporter": "python",
   "pygments_lexer": "ipython3",
   "version": "3.7.0"
  }
 },
 "nbformat": 4,
 "nbformat_minor": 2
}
